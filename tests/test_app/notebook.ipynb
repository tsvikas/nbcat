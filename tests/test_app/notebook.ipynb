{
 "cells": [
  {
   "cell_type": "code",
   "execution_count": 1,
   "id": "e89dc2b8-75d9-41a1-8461-c9ba47d7fcf8",
   "metadata": {
    "jupyter": {
     "is_executing": true
    }
   },
   "outputs": [],
   "source": [
    "from collections import Counter\n",
    "from itertools import product\n",
    "\n",
    "import matplotlib as mpl  # noqa: F401\n",
    "import pandas as pd"
   ]
  },
  {
   "cell_type": "code",
   "execution_count": 2,
   "id": "2bf8bdfd-54dc-4a8e-bc09-2c56dd1bee8d",
   "metadata": {},
   "outputs": [
    {
     "data": {
      "text/plain": [
       "<Axes: >"
      ]
     },
     "execution_count": 2,
     "metadata": {},
     "output_type": "execute_result"
    },
    {
     "data": {
      "image/png": "[encoded data removed]",
      "text/plain": [
       "<Figure size 640x480 with 1 Axes>"
      ]
     },
     "metadata": {},
     "output_type": "display_data"
    }
   ],
   "source": [
    "def get_stats(add=0, drop=None):\n",
    "    stats = Counter()\n",
    "    d6 = range(1, 1 + 6)\n",
    "    for r1, r2, r3 in product(d6, repeat=3):\n",
    "\n",
    "        if drop is None:\n",
    "            r_drop = r3\n",
    "        elif drop == \"low\":\n",
    "            r_drop = min(r1, r2, r3)\n",
    "        elif drop == \"high\":\n",
    "            r_drop = max(r1, r2, r3)\n",
    "        else:\n",
    "            raise ValueError\n",
    "\n",
    "        roll = r1 + r2 + r3 - r_drop + add\n",
    "        stats[roll] += 1\n",
    "    return stats\n",
    "\n",
    "\n",
    "pd.Series(get_stats(0, \"low\")).plot()"
   ]
  },
  {
   "cell_type": "code",
   "execution_count": 3,
   "id": "7e4e4d5a-1ed6-4a65-9e6b-8b45ea507e4f",
   "metadata": {},
   "outputs": [],
   "source": [
    "def get_stats(add=0, drop=None):\n",
    "    success = partial = fail = 0\n",
    "    d6 = range(1, 1 + 6)\n",
    "    for r1, r2, r3 in product(d6, repeat=3):\n",
    "\n",
    "        if drop is None:\n",
    "            r_drop = r3\n",
    "        elif drop == \"low\":\n",
    "            r_drop = min(r1, r2, r3)\n",
    "        elif drop == \"high\":\n",
    "            r_drop = max(r1, r2, r3)\n",
    "        else:\n",
    "            raise ValueError\n",
    "\n",
    "        roll = r1 + r2 + r3 - r_drop + add\n",
    "        if roll >= 10:\n",
    "            success += 1\n",
    "        elif roll >= 7:\n",
    "            partial += 1\n",
    "        else:\n",
    "            fail += 1\n",
    "    total = success + partial + fail\n",
    "    return fail / total, partial / total, success / total"
   ]
  },
  {
   "cell_type": "code",
   "execution_count": 4,
   "id": "3fbf6166-f79b-45b9-bd83-6707eb678bb5",
   "metadata": {},
   "outputs": [
    {
     "name": "stdout",
     "output_type": "stream",
     "text": [
      "regular\n",
      "add=-3, fail=83%, partial=17%, success= 0%\n",
      "add=-2, fail=72%, partial=25%, success= 3%\n",
      "add=-1, fail=58%, partial=33%, success= 8%\n",
      "add=+0, fail=42%, partial=42%, success=17%\n",
      "add=+1, fail=28%, partial=44%, success=28%\n",
      "add=+2, fail=17%, partial=42%, success=42%\n",
      "add=+3, fail= 8%, partial=33%, success=58%\n",
      "\n",
      "adv\n",
      "add=-3, fail=64%, partial=36%, success= 0%\n",
      "add=-2, fail=48%, partial=45%, success= 7%\n",
      "add=-1, fail=32%, partial=48%, success=20%\n",
      "add=+0, fail=19%, partial=45%, success=36%\n",
      "add=+1, fail=11%, partial=37%, success=52%\n",
      "add=+2, fail= 5%, partial=27%, success=68%\n",
      "add=+3, fail= 2%, partial=18%, success=81%\n",
      "\n",
      "dis\n",
      "add=-3, fail=95%, partial= 5%, success= 0%\n",
      "add=-2, fail=89%, partial=10%, success= 0%\n",
      "add=-1, fail=81%, partial=18%, success= 2%\n",
      "add=+0, fail=68%, partial=27%, success= 5%\n",
      "add=+1, fail=52%, partial=37%, success=11%\n",
      "add=+2, fail=36%, partial=45%, success=19%\n",
      "add=+3, fail=20%, partial=48%, success=32%\n"
     ]
    }
   ],
   "source": [
    "print(\"regular\")\n",
    "for add in range(-3, 3 + 1):\n",
    "    fail, partial, success = get_stats(add)\n",
    "    print(f\"{add=:+}, {fail=:3.0%}, {partial=:3.0%}, {success=:3.0%}\")\n",
    "\n",
    "print(\"\\nadv\")\n",
    "for add in range(-3, 3 + 1):\n",
    "    fail, partial, success = get_stats(add, \"low\")\n",
    "    print(f\"{add=:+}, {fail=:3.0%}, {partial=:3.0%}, {success=:3.0%}\")\n",
    "\n",
    "print(\"\\ndis\")\n",
    "for add in range(-3, 3 + 1):\n",
    "    fail, partial, success = get_stats(add, \"high\")\n",
    "    print(f\"{add=:+}, {fail=:3.0%}, {partial=:3.0%}, {success=:3.0%}\")"
   ]
  },
  {
   "cell_type": "code",
   "execution_count": null,
   "id": "7b9dd031-bd78-4a0d-bdba-693a863e42f2",
   "metadata": {},
   "outputs": [],
   "source": []
  },
  {
   "cell_type": "code",
   "execution_count": 5,
   "id": "1d4717cc-f2b4-4aef-8110-ac5af3006a40",
   "metadata": {},
   "outputs": [
    {
     "data": {
      "text/plain": [
       "(Counter({9: 4,\n",
       "          10: 4,\n",
       "          11: 4,\n",
       "          7: 3,\n",
       "          8: 3,\n",
       "          12: 3,\n",
       "          13: 3,\n",
       "          5: 2,\n",
       "          6: 2,\n",
       "          14: 2,\n",
       "          3: 1,\n",
       "          4: 1,\n",
       "          15: 1}),\n",
       " Counter({8: 3, 6: 2, 7: 2, 9: 2, 10: 2, 4: 1, 5: 1, 11: 1, 12: 1}))"
      ]
     },
     "execution_count": 5,
     "metadata": {},
     "output_type": "execute_result"
    }
   ],
   "source": [
    "def get_stats_barbarian(add=0):\n",
    "    stats = Counter()\n",
    "    stats_c = Counter()\n",
    "    d6 = range(1, 1 + 6)\n",
    "    d8 = range(1, 1 + 8)\n",
    "    for r1, r2 in product(d6, d8):\n",
    "        roll = r1 + r2 + add\n",
    "        complications = r1 > r2\n",
    "        if complications:\n",
    "            stats_c[roll] += 1\n",
    "        else:\n",
    "            stats[roll] += 1\n",
    "    return stats, stats_c\n",
    "\n",
    "\n",
    "get_stats_barbarian(add=1)"
   ]
  },
  {
   "cell_type": "code",
   "execution_count": null,
   "id": "d6988a86-73a3-4f99-ad77-4adfb6eb0a5a",
   "metadata": {},
   "outputs": [],
   "source": []
  }
 ],
 "metadata": {
  "kernelspec": {
   "display_name": "Python 3 (ipykernel)",
   "language": "python",
   "name": "python3"
  },
  "language_info": {
   "codemirror_mode": {
    "name": "ipython",
    "version": 3
   },
   "file_extension": ".py",
   "mimetype": "text/x-python",
   "name": "python",
   "nbconvert_exporter": "python",
   "pygments_lexer": "ipython3",
   "version": "3.13.0"
  }
 },
 "nbformat": 4,
 "nbformat_minor": 5
}
